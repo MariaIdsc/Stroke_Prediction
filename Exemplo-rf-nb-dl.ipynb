{
 "cells": [
  {
   "cell_type": "code",
   "execution_count": 1,
   "metadata": {
    "_cell_guid": "b1076dfc-b9ad-4769-8c92-a6c4dae69d19",
    "_uuid": "8f2839f25d086af736a60e9eeb907d3b93b6e0e5",
    "execution": {
     "iopub.execute_input": "2021-03-15T15:34:38.582548Z",
     "iopub.status.busy": "2021-03-15T15:34:38.581745Z",
     "iopub.status.idle": "2021-03-15T15:34:44.252721Z",
     "shell.execute_reply": "2021-03-15T15:34:44.253321Z"
    },
    "papermill": {
     "duration": 5.696307,
     "end_time": "2021-03-15T15:34:44.253680",
     "exception": false,
     "start_time": "2021-03-15T15:34:38.557373",
     "status": "completed"
    },
    "tags": []
   },
   "outputs": [
    {
     "name": "stdout",
     "output_type": "stream",
     "text": [
      "/kaggle/input/stroke-prediction-dataset/healthcare-dataset-stroke-data.csv\n"
     ]
    }
   ],
   "source": [
    "import numpy as np # linear algebra\n",
    "import pandas as pd # data processing, CSV file I/O (e.g. pd.read_csv)\n",
    "import seaborn as sns\n",
    "import matplotlib.pyplot as plt\n",
    "\n",
    "from imblearn.over_sampling import SMOTE\n",
    "\n",
    "from sklearn.pipeline import make_pipeline\n",
    "from sklearn.preprocessing import MinMaxScaler, OneHotEncoder\n",
    "from sklearn.compose import make_column_transformer\n",
    "from sklearn.model_selection import train_test_split\n",
    "from sklearn.metrics import classification_report\n",
    "\n",
    "from sklearn.ensemble import RandomForestClassifier\n",
    "from sklearn.naive_bayes import GaussianNB\n",
    "\n",
    "from tensorflow import keras\n",
    "from tensorflow.keras import layers\n",
    "\n",
    "colors = [\"#9DAFB0\", \"#75E6DA\", '#189AB4', '#05445E', '#4D707E', '#56B66B']\n",
    "\n",
    "\n",
    "import os\n",
    "for dirname, _, filenames in os.walk('/kaggle/input'):\n",
    "    for filename in filenames:\n",
    "        print(os.path.join(dirname, filename))\n"
   ]
  },
  {
   "cell_type": "markdown",
   "metadata": {
    "papermill": {
     "duration": 0.016069,
     "end_time": "2021-03-15T15:34:44.286902",
     "exception": false,
     "start_time": "2021-03-15T15:34:44.270833",
     "status": "completed"
    },
    "tags": []
   },
   "source": [
    "# Introduction\n",
    "\n",
    "\n",
    "Stroke is a condition that occurs when the blood supply to the brain decreases due to a blockage (ischemic stroke) or rupture of a blood vessel (hemorrhagic stroke). Without blood, the brain will not get oxygen and nutrients, so the cells in the affected brain area will soon die. \n",
    "\n",
    "According to the World Health Organization (WHO) stroke is the 2nd leading cause of death globally, responsible for approximately 11% of total deaths.\n",
    "\n",
    "Stroke is a medical emergency because brain cells can die in just a matter of minutes. The death of brain cells causes the parts of the body that are controlled by the damaged areas of the brain to not function properly. Prompt treatment can minimize the level of damage to the brain and the possibility of complications. \n",
    "\n",
    "\n",
    "From the description above, we know that stroke is simply deadly. In this notebook im trying to found out can we predict the possibility of a patient having a stroke based on the given dataset.\n",
    "\n",
    "## Attribute Information\n",
    "\n",
    "* id: unique identifier\n",
    "* gender: \"Male\", \"Female\" or \"Other\"\n",
    "* age: age of the patient\n",
    "* hypertension: 0 if the patient doesn't have hypertension, 1 if the patient has hypertension\n",
    "* heart_disease: 0 if the patient doesn't have any heart diseases, 1 if the patient has a heart disease\n",
    "* ever_married: \"No\" or \"Yes\"\n",
    "* work_type: \"children\", \"Govt_jov\", \"Never_worked\", \"Private\" or \"Self-employed\"\n",
    "* Residence_type: \"Rural\" or \"Urban\"\n",
    "* avg_glucose_level: average glucose level in blood\n",
    "* bmi: body mass index\n",
    "* smoking_status: \"formerly smoked\", \"never smoked\", \"smokes\" or \"Unknown\"*\n",
    "* stroke: 1 if the patient had a stroke or 0 if not\n",
    "*Note: \"Unknown\" in smoking_status means that the information is unavailable for this patient\n"
   ]
  },
  {
   "cell_type": "markdown",
   "metadata": {
    "papermill": {
     "duration": 0.015533,
     "end_time": "2021-03-15T15:34:44.318154",
     "exception": false,
     "start_time": "2021-03-15T15:34:44.302621",
     "status": "completed"
    },
    "tags": []
   },
   "source": [
    "# Loading Data"
   ]
  },
  {
   "cell_type": "code",
   "execution_count": 2,
   "metadata": {
    "execution": {
     "iopub.execute_input": "2021-03-15T15:34:44.355139Z",
     "iopub.status.busy": "2021-03-15T15:34:44.354598Z",
     "iopub.status.idle": "2021-03-15T15:34:44.404364Z",
     "shell.execute_reply": "2021-03-15T15:34:44.403594Z"
    },
    "papermill": {
     "duration": 0.070706,
     "end_time": "2021-03-15T15:34:44.404500",
     "exception": false,
     "start_time": "2021-03-15T15:34:44.333794",
     "status": "completed"
    },
    "tags": []
   },
   "outputs": [
    {
     "data": {
      "text/html": [
       "<div>\n",
       "<style scoped>\n",
       "    .dataframe tbody tr th:only-of-type {\n",
       "        vertical-align: middle;\n",
       "    }\n",
       "\n",
       "    .dataframe tbody tr th {\n",
       "        vertical-align: top;\n",
       "    }\n",
       "\n",
       "    .dataframe thead th {\n",
       "        text-align: right;\n",
       "    }\n",
       "</style>\n",
       "<table border=\"1\" class=\"dataframe\">\n",
       "  <thead>\n",
       "    <tr style=\"text-align: right;\">\n",
       "      <th></th>\n",
       "      <th>gender</th>\n",
       "      <th>age</th>\n",
       "      <th>hypertension</th>\n",
       "      <th>heart_disease</th>\n",
       "      <th>ever_married</th>\n",
       "      <th>work_type</th>\n",
       "      <th>Residence_type</th>\n",
       "      <th>avg_glucose_level</th>\n",
       "      <th>bmi</th>\n",
       "      <th>smoking_status</th>\n",
       "      <th>stroke</th>\n",
       "    </tr>\n",
       "  </thead>\n",
       "  <tbody>\n",
       "    <tr>\n",
       "      <th>0</th>\n",
       "      <td>Male</td>\n",
       "      <td>67.0</td>\n",
       "      <td>0</td>\n",
       "      <td>1</td>\n",
       "      <td>Yes</td>\n",
       "      <td>Private</td>\n",
       "      <td>Urban</td>\n",
       "      <td>228.69</td>\n",
       "      <td>36.6</td>\n",
       "      <td>formerly smoked</td>\n",
       "      <td>1</td>\n",
       "    </tr>\n",
       "    <tr>\n",
       "      <th>1</th>\n",
       "      <td>Female</td>\n",
       "      <td>61.0</td>\n",
       "      <td>0</td>\n",
       "      <td>0</td>\n",
       "      <td>Yes</td>\n",
       "      <td>Self-employed</td>\n",
       "      <td>Rural</td>\n",
       "      <td>202.21</td>\n",
       "      <td>NaN</td>\n",
       "      <td>never smoked</td>\n",
       "      <td>1</td>\n",
       "    </tr>\n",
       "    <tr>\n",
       "      <th>2</th>\n",
       "      <td>Male</td>\n",
       "      <td>80.0</td>\n",
       "      <td>0</td>\n",
       "      <td>1</td>\n",
       "      <td>Yes</td>\n",
       "      <td>Private</td>\n",
       "      <td>Rural</td>\n",
       "      <td>105.92</td>\n",
       "      <td>32.5</td>\n",
       "      <td>never smoked</td>\n",
       "      <td>1</td>\n",
       "    </tr>\n",
       "    <tr>\n",
       "      <th>3</th>\n",
       "      <td>Female</td>\n",
       "      <td>49.0</td>\n",
       "      <td>0</td>\n",
       "      <td>0</td>\n",
       "      <td>Yes</td>\n",
       "      <td>Private</td>\n",
       "      <td>Urban</td>\n",
       "      <td>171.23</td>\n",
       "      <td>34.4</td>\n",
       "      <td>smokes</td>\n",
       "      <td>1</td>\n",
       "    </tr>\n",
       "    <tr>\n",
       "      <th>4</th>\n",
       "      <td>Female</td>\n",
       "      <td>79.0</td>\n",
       "      <td>1</td>\n",
       "      <td>0</td>\n",
       "      <td>Yes</td>\n",
       "      <td>Self-employed</td>\n",
       "      <td>Rural</td>\n",
       "      <td>174.12</td>\n",
       "      <td>24.0</td>\n",
       "      <td>never smoked</td>\n",
       "      <td>1</td>\n",
       "    </tr>\n",
       "    <tr>\n",
       "      <th>...</th>\n",
       "      <td>...</td>\n",
       "      <td>...</td>\n",
       "      <td>...</td>\n",
       "      <td>...</td>\n",
       "      <td>...</td>\n",
       "      <td>...</td>\n",
       "      <td>...</td>\n",
       "      <td>...</td>\n",
       "      <td>...</td>\n",
       "      <td>...</td>\n",
       "      <td>...</td>\n",
       "    </tr>\n",
       "    <tr>\n",
       "      <th>5105</th>\n",
       "      <td>Female</td>\n",
       "      <td>80.0</td>\n",
       "      <td>1</td>\n",
       "      <td>0</td>\n",
       "      <td>Yes</td>\n",
       "      <td>Private</td>\n",
       "      <td>Urban</td>\n",
       "      <td>83.75</td>\n",
       "      <td>NaN</td>\n",
       "      <td>never smoked</td>\n",
       "      <td>0</td>\n",
       "    </tr>\n",
       "    <tr>\n",
       "      <th>5106</th>\n",
       "      <td>Female</td>\n",
       "      <td>81.0</td>\n",
       "      <td>0</td>\n",
       "      <td>0</td>\n",
       "      <td>Yes</td>\n",
       "      <td>Self-employed</td>\n",
       "      <td>Urban</td>\n",
       "      <td>125.20</td>\n",
       "      <td>40.0</td>\n",
       "      <td>never smoked</td>\n",
       "      <td>0</td>\n",
       "    </tr>\n",
       "    <tr>\n",
       "      <th>5107</th>\n",
       "      <td>Female</td>\n",
       "      <td>35.0</td>\n",
       "      <td>0</td>\n",
       "      <td>0</td>\n",
       "      <td>Yes</td>\n",
       "      <td>Self-employed</td>\n",
       "      <td>Rural</td>\n",
       "      <td>82.99</td>\n",
       "      <td>30.6</td>\n",
       "      <td>never smoked</td>\n",
       "      <td>0</td>\n",
       "    </tr>\n",
       "    <tr>\n",
       "      <th>5108</th>\n",
       "      <td>Male</td>\n",
       "      <td>51.0</td>\n",
       "      <td>0</td>\n",
       "      <td>0</td>\n",
       "      <td>Yes</td>\n",
       "      <td>Private</td>\n",
       "      <td>Rural</td>\n",
       "      <td>166.29</td>\n",
       "      <td>25.6</td>\n",
       "      <td>formerly smoked</td>\n",
       "      <td>0</td>\n",
       "    </tr>\n",
       "    <tr>\n",
       "      <th>5109</th>\n",
       "      <td>Female</td>\n",
       "      <td>44.0</td>\n",
       "      <td>0</td>\n",
       "      <td>0</td>\n",
       "      <td>Yes</td>\n",
       "      <td>Govt_job</td>\n",
       "      <td>Urban</td>\n",
       "      <td>85.28</td>\n",
       "      <td>26.2</td>\n",
       "      <td>Unknown</td>\n",
       "      <td>0</td>\n",
       "    </tr>\n",
       "  </tbody>\n",
       "</table>\n",
       "<p>5110 rows × 11 columns</p>\n",
       "</div>"
      ],
      "text/plain": [
       "      gender   age  hypertension  heart_disease ever_married      work_type  \\\n",
       "0       Male  67.0             0              1          Yes        Private   \n",
       "1     Female  61.0             0              0          Yes  Self-employed   \n",
       "2       Male  80.0             0              1          Yes        Private   \n",
       "3     Female  49.0             0              0          Yes        Private   \n",
       "4     Female  79.0             1              0          Yes  Self-employed   \n",
       "...      ...   ...           ...            ...          ...            ...   \n",
       "5105  Female  80.0             1              0          Yes        Private   \n",
       "5106  Female  81.0             0              0          Yes  Self-employed   \n",
       "5107  Female  35.0             0              0          Yes  Self-employed   \n",
       "5108    Male  51.0             0              0          Yes        Private   \n",
       "5109  Female  44.0             0              0          Yes       Govt_job   \n",
       "\n",
       "     Residence_type  avg_glucose_level   bmi   smoking_status  stroke  \n",
       "0             Urban             228.69  36.6  formerly smoked       1  \n",
       "1             Rural             202.21   NaN     never smoked       1  \n",
       "2             Rural             105.92  32.5     never smoked       1  \n",
       "3             Urban             171.23  34.4           smokes       1  \n",
       "4             Rural             174.12  24.0     never smoked       1  \n",
       "...             ...                ...   ...              ...     ...  \n",
       "5105          Urban              83.75   NaN     never smoked       0  \n",
       "5106          Urban             125.20  40.0     never smoked       0  \n",
       "5107          Rural              82.99  30.6     never smoked       0  \n",
       "5108          Rural             166.29  25.6  formerly smoked       0  \n",
       "5109          Urban              85.28  26.2          Unknown       0  \n",
       "\n",
       "[5110 rows x 11 columns]"
      ]
     },
     "execution_count": 2,
     "metadata": {},
     "output_type": "execute_result"
    }
   ],
   "source": [
    "data = pd.read_csv(\"/kaggle/input/stroke-prediction-dataset/healthcare-dataset-stroke-data.csv\")\n",
    "data.drop(['id'], axis=1, inplace=True)\n",
    "data"
   ]
  },
  {
   "cell_type": "code",
   "execution_count": 3,
   "metadata": {
    "execution": {
     "iopub.execute_input": "2021-03-15T15:34:44.442965Z",
     "iopub.status.busy": "2021-03-15T15:34:44.442189Z",
     "iopub.status.idle": "2021-03-15T15:34:44.445127Z",
     "shell.execute_reply": "2021-03-15T15:34:44.444628Z"
    },
    "papermill": {
     "duration": 0.024534,
     "end_time": "2021-03-15T15:34:44.445248",
     "exception": false,
     "start_time": "2021-03-15T15:34:44.420714",
     "status": "completed"
    },
    "tags": []
   },
   "outputs": [],
   "source": [
    "feature_num = ['age', 'avg_glucose_level', 'bmi']\n",
    "feature_cat = ['gender', 'hypertension', 'heart_disease', 'ever_married', 'work_type', 'Residence_type', 'smoking_status']\n",
    "label = ['stroke']"
   ]
  },
  {
   "cell_type": "code",
   "execution_count": 4,
   "metadata": {
    "execution": {
     "iopub.execute_input": "2021-03-15T15:34:44.493532Z",
     "iopub.status.busy": "2021-03-15T15:34:44.492701Z",
     "iopub.status.idle": "2021-03-15T15:34:44.510914Z",
     "shell.execute_reply": "2021-03-15T15:34:44.511570Z"
    },
    "papermill": {
     "duration": 0.04902,
     "end_time": "2021-03-15T15:34:44.511716",
     "exception": false,
     "start_time": "2021-03-15T15:34:44.462696",
     "status": "completed"
    },
    "tags": []
   },
   "outputs": [
    {
     "data": {
      "text/plain": [
       "gender                 0\n",
       "age                    0\n",
       "hypertension           0\n",
       "heart_disease          0\n",
       "ever_married           0\n",
       "work_type              0\n",
       "Residence_type         0\n",
       "avg_glucose_level      0\n",
       "bmi                  201\n",
       "smoking_status         0\n",
       "stroke                 0\n",
       "dtype: int64"
      ]
     },
     "execution_count": 4,
     "metadata": {},
     "output_type": "execute_result"
    }
   ],
   "source": [
    "data.isnull().sum()"
   ]
  },
  {
   "cell_type": "markdown",
   "metadata": {
    "papermill": {
     "duration": 0.031399,
     "end_time": "2021-03-15T15:34:44.578759",
     "exception": false,
     "start_time": "2021-03-15T15:34:44.547360",
     "status": "completed"
    },
    "tags": []
   },
   "source": [
    "# EDA"
   ]
  },
  {
   "cell_type": "code",
   "execution_count": 5,
   "metadata": {
    "execution": {
     "iopub.execute_input": "2021-03-15T15:34:44.652804Z",
     "iopub.status.busy": "2021-03-15T15:34:44.651948Z",
     "iopub.status.idle": "2021-03-15T15:34:44.888425Z",
     "shell.execute_reply": "2021-03-15T15:34:44.889578Z"
    },
    "papermill": {
     "duration": 0.282484,
     "end_time": "2021-03-15T15:34:44.889798",
     "exception": false,
     "start_time": "2021-03-15T15:34:44.607314",
     "status": "completed"
    },
    "tags": []
   },
   "outputs": [
    {
     "data": {
      "image/png": "[encoded data removed]",
      "text/plain": [
       "<Figure size 576x432 with 1 Axes>"
      ]
     },
     "metadata": {
      "needs_background": "light"
     },
     "output_type": "display_data"
    }
   ],
   "source": [
    "fig, ax = plt.subplots(figsize=(8, 6))\n",
    "\n",
    "sns.countplot(data=data, x='stroke', ax=ax, palette=colors[2:4])\n",
    "\n",
    "ax.spines['right'].set_visible(False)\n",
    "ax.spines['top'].set_visible(False)\n",
    "ax.set_axisbelow(True)\n",
    "\n",
    "\n",
    "plt.legend(['count'])\n",
    "plt.grid(axis='y', alpha=0.5)\n",
    "plt.suptitle(\"Count Plot\", ha='left', x=0.125, y=0.97, fontsize=18, fontweight='bold')\n",
    "plt.title(\"distribution of target feature (stroke)\", loc='left')\n",
    "plt.show()"
   ]
  },
  {
   "cell_type": "markdown",
   "metadata": {
    "papermill": {
     "duration": 0.030238,
     "end_time": "2021-03-15T15:34:44.951912",
     "exception": false,
     "start_time": "2021-03-15T15:34:44.921674",
     "status": "completed"
    },
    "tags": []
   },
   "source": [
    "the dataset is highly imbalance, we will try to oversample the dataset using SMOTE later on"
   ]
  },
  {
   "cell_type": "code",
   "execution_count": 6,
   "metadata": {
    "execution": {
     "iopub.execute_input": "2021-03-15T15:34:45.027231Z",
     "iopub.status.busy": "2021-03-15T15:34:45.022728Z",
     "iopub.status.idle": "2021-03-15T15:34:45.028189Z",
     "shell.execute_reply": "2021-03-15T15:34:45.027743Z"
    },
    "papermill": {
     "duration": 0.045367,
     "end_time": "2021-03-15T15:34:45.028303",
     "exception": false,
     "start_time": "2021-03-15T15:34:44.982936",
     "status": "completed"
    },
    "tags": []
   },
   "outputs": [],
   "source": [
    "data = data[data.gender != 'Other']"
   ]
  },
  {
   "cell_type": "code",
   "execution_count": 7,
   "metadata": {
    "execution": {
     "iopub.execute_input": "2021-03-15T15:34:45.120150Z",
     "iopub.status.busy": "2021-03-15T15:34:45.119459Z",
     "iopub.status.idle": "2021-03-15T15:34:46.314032Z",
     "shell.execute_reply": "2021-03-15T15:34:46.314428Z"
    },
    "papermill": {
     "duration": 1.246828,
     "end_time": "2021-03-15T15:34:46.314617",
     "exception": false,
     "start_time": "2021-03-15T15:34:45.067789",
     "status": "completed"
    },
    "tags": []
   },
   "outputs": [
    {
     "data": {
      "image/png": "[encoded data removed]",
      "text/plain": [
       "<Figure size 1008x864 with 6 Axes>"
      ]
     },
     "metadata": {
      "needs_background": "light"
     },
     "output_type": "display_data"
    }
   ],
   "source": [
    "df = data[feature_num]\n",
    "\n",
    "fig, ax = plt.subplots(2, 3, figsize=(14, 12))\n",
    "\n",
    "for i in range(3) : \n",
    "    median = df.median()[feature_num[i]]\n",
    "    sns.kdeplot(data=df, x=feature_num[i], ax=ax[0, i], shade=True, color=colors[2])\n",
    "    ax[0, i].axvline(x=median, color='#05445E')\n",
    "\n",
    "    ax[0, i].set_title(f'{feature_num[i]} distribution', loc='left', pad=10)\n",
    "    ax[0, i].grid(axis='y', alpha=0.3)\n",
    "    ax[0, i].annotate(\n",
    "        f'median: {median}', \n",
    "        xy=(median, 0.015), \n",
    "        xytext=(median+20, 0.015), \n",
    "        arrowprops=dict(arrowstyle='-|>',\n",
    "        fc='black', shrinkA=0, shrinkB=0,            \n",
    "        connectionstyle='angle,angleA=0,angleB=90,rad=10')\n",
    "    )\n",
    "\n",
    "    ax[0, i].set_axisbelow(True)\n",
    "\n",
    "\n",
    "for i in range(3) : \n",
    "    median = df.median()[feature_num[i]]\n",
    "    sns.boxplot(data=df, y=feature_num[i], ax=ax[1, i], color=colors[2])\n",
    "    ax[1, i].set_title(f'{feature_num[i]} distribution', loc='left', pad=10)\n",
    "    ax[1, i].grid(axis='y', alpha=0.3)\n",
    "    ax[1, i].set_axisbelow(True)\n",
    "  \n",
    "plt.suptitle(\"Distribution Plot\", ha='left', x=0.125, y=0.93, fontsize=18, fontweight='bold')\n",
    "plt.show()"
   ]
  },
  {
   "cell_type": "code",
   "execution_count": 8,
   "metadata": {
    "execution": {
     "iopub.execute_input": "2021-03-15T15:34:46.363557Z",
     "iopub.status.busy": "2021-03-15T15:34:46.362766Z",
     "iopub.status.idle": "2021-03-15T15:34:46.892650Z",
     "shell.execute_reply": "2021-03-15T15:34:46.893183Z"
    },
    "papermill": {
     "duration": 0.558905,
     "end_time": "2021-03-15T15:34:46.893411",
     "exception": false,
     "start_time": "2021-03-15T15:34:46.334506",
     "status": "completed"
    },
    "tags": []
   },
   "outputs": [
    {
     "data": {
      "image/png": "[encoded data removed]",
      "text/plain": [
       "<Figure size 1008x432 with 3 Axes>"
      ]
     },
     "metadata": {
      "needs_background": "light"
     },
     "output_type": "display_data"
    }
   ],
   "source": [
    "df1 = data[data.stroke == 1]\n",
    "df0 = data[data.stroke == 0]\n",
    "\n",
    "\n",
    "fig, ax = plt.subplots(1, 3, figsize=(14, 6))\n",
    "for i in range(3) : \n",
    "    sns.kdeplot(data=df1, x=feature_num[i], ax=ax[i], shade=True, color=colors[2])\n",
    "    sns.kdeplot(data=df0, x=feature_num[i], ax=ax[i], shade=True, color=colors[5])\n",
    "\n",
    "    ax[i].set_title(f'{feature_num[i]} distribution', loc='left')\n",
    "    ax[i].legend(['1', '0'])\n",
    "    ax[i].grid(axis='y', alpha=0.3)\n",
    "    ax[i].set_axisbelow(True)\n",
    "\n",
    "plt.suptitle(\"Distribution Plot per Target\", ha='left', x=0.125, y=0.97, fontsize=18, fontweight='bold')\n",
    "plt.show()"
   ]
  },
  {
   "cell_type": "code",
   "execution_count": 9,
   "metadata": {
    "execution": {
     "iopub.execute_input": "2021-03-15T15:34:46.947509Z",
     "iopub.status.busy": "2021-03-15T15:34:46.946664Z",
     "iopub.status.idle": "2021-03-15T15:34:47.201525Z",
     "shell.execute_reply": "2021-03-15T15:34:47.201959Z"
    },
    "papermill": {
     "duration": 0.28558,
     "end_time": "2021-03-15T15:34:47.202108",
     "exception": false,
     "start_time": "2021-03-15T15:34:46.916528",
     "status": "completed"
    },
    "tags": []
   },
   "outputs": [
    {
     "data": {
      "image/png": "[encoded data removed]",
      "text/plain": [
       "<Figure size 792x648 with 2 Axes>"
      ]
     },
     "metadata": {
      "needs_background": "light"
     },
     "output_type": "display_data"
    }
   ],
   "source": [
    "df = data\n",
    "corr = df.corr()\n",
    "\n",
    "mask = np.triu(np.ones_like(corr, dtype=bool))\n",
    "\n",
    "fig, ax = plt.subplots(figsize=(11, 9))\n",
    "\n",
    "mask = np.triu(np.ones_like(df.corr(), dtype=np.bool))\n",
    "\n",
    "sns.heatmap(corr, mask=mask, vmax=.3, center=0,\n",
    "            square=True, linewidths=.5, cbar_kws={\"shrink\": .5}, annot=True, cmap=sns.color_palette(\"Blues\", as_cmap=True))\n",
    "\n",
    "ax.set_axisbelow(True)\n",
    "\n",
    "plt.legend(['Pearson Correlation'])\n",
    "plt.suptitle(\"Count Plot\", ha='left', x=0.125, y=0.94, fontsize=18, fontweight='bold')\n",
    "plt.title(\"correlation for every feature\", loc='left')\n",
    "plt.show()"
   ]
  },
  {
   "cell_type": "markdown",
   "metadata": {
    "papermill": {
     "duration": 0.022202,
     "end_time": "2021-03-15T15:34:47.246991",
     "exception": false,
     "start_time": "2021-03-15T15:34:47.224789",
     "status": "completed"
    },
    "tags": []
   },
   "source": [
    "# Handle Missing Data"
   ]
  },
  {
   "cell_type": "code",
   "execution_count": 10,
   "metadata": {
    "execution": {
     "iopub.execute_input": "2021-03-15T15:34:47.298065Z",
     "iopub.status.busy": "2021-03-15T15:34:47.297244Z",
     "iopub.status.idle": "2021-03-15T15:34:47.306237Z",
     "shell.execute_reply": "2021-03-15T15:34:47.305724Z"
    },
    "papermill": {
     "duration": 0.036924,
     "end_time": "2021-03-15T15:34:47.306344",
     "exception": false,
     "start_time": "2021-03-15T15:34:47.269420",
     "status": "completed"
    },
    "tags": []
   },
   "outputs": [
    {
     "data": {
      "text/html": [
       "<div>\n",
       "<style scoped>\n",
       "    .dataframe tbody tr th:only-of-type {\n",
       "        vertical-align: middle;\n",
       "    }\n",
       "\n",
       "    .dataframe tbody tr th {\n",
       "        vertical-align: top;\n",
       "    }\n",
       "\n",
       "    .dataframe thead th {\n",
       "        text-align: right;\n",
       "    }\n",
       "</style>\n",
       "<table border=\"1\" class=\"dataframe\">\n",
       "  <thead>\n",
       "    <tr style=\"text-align: right;\">\n",
       "      <th></th>\n",
       "      <th>bmi</th>\n",
       "    </tr>\n",
       "    <tr>\n",
       "      <th>ever_married</th>\n",
       "      <th></th>\n",
       "    </tr>\n",
       "  </thead>\n",
       "  <tbody>\n",
       "    <tr>\n",
       "      <th>No</th>\n",
       "      <td>25.216373</td>\n",
       "    </tr>\n",
       "    <tr>\n",
       "      <th>Yes</th>\n",
       "      <td>30.850749</td>\n",
       "    </tr>\n",
       "  </tbody>\n",
       "</table>\n",
       "</div>"
      ],
      "text/plain": [
       "                    bmi\n",
       "ever_married           \n",
       "No            25.216373\n",
       "Yes           30.850749"
      ]
     },
     "execution_count": 10,
     "metadata": {},
     "output_type": "execute_result"
    }
   ],
   "source": [
    "data.groupby('ever_married').mean()[['bmi']]"
   ]
  },
  {
   "cell_type": "code",
   "execution_count": 11,
   "metadata": {
    "execution": {
     "iopub.execute_input": "2021-03-15T15:34:47.358749Z",
     "iopub.status.busy": "2021-03-15T15:34:47.357927Z",
     "iopub.status.idle": "2021-03-15T15:34:47.401469Z",
     "shell.execute_reply": "2021-03-15T15:34:47.402040Z"
    },
    "papermill": {
     "duration": 0.072966,
     "end_time": "2021-03-15T15:34:47.402234",
     "exception": false,
     "start_time": "2021-03-15T15:34:47.329268",
     "status": "completed"
    },
    "tags": []
   },
   "outputs": [
    {
     "name": "stderr",
     "output_type": "stream",
     "text": [
      "/opt/conda/lib/python3.7/site-packages/ipykernel_launcher.py:1: SettingWithCopyWarning: \n",
      "A value is trying to be set on a copy of a slice from a DataFrame.\n",
      "Try using .loc[row_indexer,col_indexer] = value instead\n",
      "\n",
      "See the caveats in the documentation: https://pandas.pydata.org/pandas-docs/stable/user_guide/indexing.html#returning-a-view-versus-a-copy\n",
      "  \"\"\"Entry point for launching an IPython kernel.\n"
     ]
    },
    {
     "data": {
      "text/html": [
       "<div>\n",
       "<style scoped>\n",
       "    .dataframe tbody tr th:only-of-type {\n",
       "        vertical-align: middle;\n",
       "    }\n",
       "\n",
       "    .dataframe tbody tr th {\n",
       "        vertical-align: top;\n",
       "    }\n",
       "\n",
       "    .dataframe thead th {\n",
       "        text-align: right;\n",
       "    }\n",
       "</style>\n",
       "<table border=\"1\" class=\"dataframe\">\n",
       "  <thead>\n",
       "    <tr style=\"text-align: right;\">\n",
       "      <th></th>\n",
       "      <th>gender</th>\n",
       "      <th>age</th>\n",
       "      <th>hypertension</th>\n",
       "      <th>heart_disease</th>\n",
       "      <th>ever_married</th>\n",
       "      <th>work_type</th>\n",
       "      <th>Residence_type</th>\n",
       "      <th>avg_glucose_level</th>\n",
       "      <th>bmi</th>\n",
       "      <th>smoking_status</th>\n",
       "      <th>stroke</th>\n",
       "    </tr>\n",
       "  </thead>\n",
       "  <tbody>\n",
       "    <tr>\n",
       "      <th>0</th>\n",
       "      <td>Male</td>\n",
       "      <td>67.0</td>\n",
       "      <td>0</td>\n",
       "      <td>1</td>\n",
       "      <td>Yes</td>\n",
       "      <td>Private</td>\n",
       "      <td>Urban</td>\n",
       "      <td>228.69</td>\n",
       "      <td>36.600000</td>\n",
       "      <td>formerly smoked</td>\n",
       "      <td>1</td>\n",
       "    </tr>\n",
       "    <tr>\n",
       "      <th>1</th>\n",
       "      <td>Female</td>\n",
       "      <td>61.0</td>\n",
       "      <td>0</td>\n",
       "      <td>0</td>\n",
       "      <td>Yes</td>\n",
       "      <td>Self-employed</td>\n",
       "      <td>Rural</td>\n",
       "      <td>202.21</td>\n",
       "      <td>30.850749</td>\n",
       "      <td>never smoked</td>\n",
       "      <td>1</td>\n",
       "    </tr>\n",
       "    <tr>\n",
       "      <th>2</th>\n",
       "      <td>Male</td>\n",
       "      <td>80.0</td>\n",
       "      <td>0</td>\n",
       "      <td>1</td>\n",
       "      <td>Yes</td>\n",
       "      <td>Private</td>\n",
       "      <td>Rural</td>\n",
       "      <td>105.92</td>\n",
       "      <td>32.500000</td>\n",
       "      <td>never smoked</td>\n",
       "      <td>1</td>\n",
       "    </tr>\n",
       "    <tr>\n",
       "      <th>3</th>\n",
       "      <td>Female</td>\n",
       "      <td>49.0</td>\n",
       "      <td>0</td>\n",
       "      <td>0</td>\n",
       "      <td>Yes</td>\n",
       "      <td>Private</td>\n",
       "      <td>Urban</td>\n",
       "      <td>171.23</td>\n",
       "      <td>34.400000</td>\n",
       "      <td>smokes</td>\n",
       "      <td>1</td>\n",
       "    </tr>\n",
       "    <tr>\n",
       "      <th>4</th>\n",
       "      <td>Female</td>\n",
       "      <td>79.0</td>\n",
       "      <td>1</td>\n",
       "      <td>0</td>\n",
       "      <td>Yes</td>\n",
       "      <td>Self-employed</td>\n",
       "      <td>Rural</td>\n",
       "      <td>174.12</td>\n",
       "      <td>24.000000</td>\n",
       "      <td>never smoked</td>\n",
       "      <td>1</td>\n",
       "    </tr>\n",
       "    <tr>\n",
       "      <th>...</th>\n",
       "      <td>...</td>\n",
       "      <td>...</td>\n",
       "      <td>...</td>\n",
       "      <td>...</td>\n",
       "      <td>...</td>\n",
       "      <td>...</td>\n",
       "      <td>...</td>\n",
       "      <td>...</td>\n",
       "      <td>...</td>\n",
       "      <td>...</td>\n",
       "      <td>...</td>\n",
       "    </tr>\n",
       "    <tr>\n",
       "      <th>5105</th>\n",
       "      <td>Female</td>\n",
       "      <td>80.0</td>\n",
       "      <td>1</td>\n",
       "      <td>0</td>\n",
       "      <td>Yes</td>\n",
       "      <td>Private</td>\n",
       "      <td>Urban</td>\n",
       "      <td>83.75</td>\n",
       "      <td>30.850749</td>\n",
       "      <td>never smoked</td>\n",
       "      <td>0</td>\n",
       "    </tr>\n",
       "    <tr>\n",
       "      <th>5106</th>\n",
       "      <td>Female</td>\n",
       "      <td>81.0</td>\n",
       "      <td>0</td>\n",
       "      <td>0</td>\n",
       "      <td>Yes</td>\n",
       "      <td>Self-employed</td>\n",
       "      <td>Urban</td>\n",
       "      <td>125.20</td>\n",
       "      <td>40.000000</td>\n",
       "      <td>never smoked</td>\n",
       "      <td>0</td>\n",
       "    </tr>\n",
       "    <tr>\n",
       "      <th>5107</th>\n",
       "      <td>Female</td>\n",
       "      <td>35.0</td>\n",
       "      <td>0</td>\n",
       "      <td>0</td>\n",
       "      <td>Yes</td>\n",
       "      <td>Self-employed</td>\n",
       "      <td>Rural</td>\n",
       "      <td>82.99</td>\n",
       "      <td>30.600000</td>\n",
       "      <td>never smoked</td>\n",
       "      <td>0</td>\n",
       "    </tr>\n",
       "    <tr>\n",
       "      <th>5108</th>\n",
       "      <td>Male</td>\n",
       "      <td>51.0</td>\n",
       "      <td>0</td>\n",
       "      <td>0</td>\n",
       "      <td>Yes</td>\n",
       "      <td>Private</td>\n",
       "      <td>Rural</td>\n",
       "      <td>166.29</td>\n",
       "      <td>25.600000</td>\n",
       "      <td>formerly smoked</td>\n",
       "      <td>0</td>\n",
       "    </tr>\n",
       "    <tr>\n",
       "      <th>5109</th>\n",
       "      <td>Female</td>\n",
       "      <td>44.0</td>\n",
       "      <td>0</td>\n",
       "      <td>0</td>\n",
       "      <td>Yes</td>\n",
       "      <td>Govt_job</td>\n",
       "      <td>Urban</td>\n",
       "      <td>85.28</td>\n",
       "      <td>26.200000</td>\n",
       "      <td>Unknown</td>\n",
       "      <td>0</td>\n",
       "    </tr>\n",
       "  </tbody>\n",
       "</table>\n",
       "<p>5109 rows × 11 columns</p>\n",
       "</div>"
      ],
      "text/plain": [
       "      gender   age  hypertension  heart_disease ever_married      work_type  \\\n",
       "0       Male  67.0             0              1          Yes        Private   \n",
       "1     Female  61.0             0              0          Yes  Self-employed   \n",
       "2       Male  80.0             0              1          Yes        Private   \n",
       "3     Female  49.0             0              0          Yes        Private   \n",
       "4     Female  79.0             1              0          Yes  Self-employed   \n",
       "...      ...   ...           ...            ...          ...            ...   \n",
       "5105  Female  80.0             1              0          Yes        Private   \n",
       "5106  Female  81.0             0              0          Yes  Self-employed   \n",
       "5107  Female  35.0             0              0          Yes  Self-employed   \n",
       "5108    Male  51.0             0              0          Yes        Private   \n",
       "5109  Female  44.0             0              0          Yes       Govt_job   \n",
       "\n",
       "     Residence_type  avg_glucose_level        bmi   smoking_status  stroke  \n",
       "0             Urban             228.69  36.600000  formerly smoked       1  \n",
       "1             Rural             202.21  30.850749     never smoked       1  \n",
       "2             Rural             105.92  32.500000     never smoked       1  \n",
       "3             Urban             171.23  34.400000           smokes       1  \n",
       "4             Rural             174.12  24.000000     never smoked       1  \n",
       "...             ...                ...        ...              ...     ...  \n",
       "5105          Urban              83.75  30.850749     never smoked       0  \n",
       "5106          Urban             125.20  40.000000     never smoked       0  \n",
       "5107          Rural              82.99  30.600000     never smoked       0  \n",
       "5108          Rural             166.29  25.600000  formerly smoked       0  \n",
       "5109          Urban              85.28  26.200000          Unknown       0  \n",
       "\n",
       "[5109 rows x 11 columns]"
      ]
     },
     "execution_count": 11,
     "metadata": {},
     "output_type": "execute_result"
    }
   ],
   "source": [
    "data['bmi'] = data.groupby('ever_married').transform(lambda x: x.fillna(x.mean()))['bmi']\n",
    "data"
   ]
  },
  {
   "cell_type": "code",
   "execution_count": 12,
   "metadata": {
    "execution": {
     "iopub.execute_input": "2021-03-15T15:34:47.455847Z",
     "iopub.status.busy": "2021-03-15T15:34:47.455118Z",
     "iopub.status.idle": "2021-03-15T15:34:47.457923Z",
     "shell.execute_reply": "2021-03-15T15:34:47.457528Z"
    },
    "papermill": {
     "duration": 0.031501,
     "end_time": "2021-03-15T15:34:47.458030",
     "exception": false,
     "start_time": "2021-03-15T15:34:47.426529",
     "status": "completed"
    },
    "tags": []
   },
   "outputs": [],
   "source": [
    "X = data.drop(['stroke'], axis=1)\n",
    "y = data['stroke']"
   ]
  },
  {
   "cell_type": "markdown",
   "metadata": {
    "papermill": {
     "duration": 0.023901,
     "end_time": "2021-03-15T15:34:47.505833",
     "exception": false,
     "start_time": "2021-03-15T15:34:47.481932",
     "status": "completed"
    },
    "tags": []
   },
   "source": [
    "# Pre-processing"
   ]
  },
  {
   "cell_type": "code",
   "execution_count": 13,
   "metadata": {
    "execution": {
     "iopub.execute_input": "2021-03-15T15:34:47.559661Z",
     "iopub.status.busy": "2021-03-15T15:34:47.559124Z",
     "iopub.status.idle": "2021-03-15T15:34:47.591739Z",
     "shell.execute_reply": "2021-03-15T15:34:47.592250Z"
    },
    "papermill": {
     "duration": 0.062738,
     "end_time": "2021-03-15T15:34:47.592396",
     "exception": false,
     "start_time": "2021-03-15T15:34:47.529658",
     "status": "completed"
    },
    "tags": []
   },
   "outputs": [],
   "source": [
    "transformer_num = make_pipeline(MinMaxScaler())\n",
    "transformer_cat = make_pipeline(OneHotEncoder())\n",
    "\n",
    "preprocessor = make_column_transformer(\n",
    "    (transformer_num, feature_num),\n",
    "    (transformer_cat, feature_cat),\n",
    ")\n",
    "\n",
    "X_train, X_valid, y_train, y_valid = train_test_split(X, y, stratify=y, train_size=0.8)\n",
    "X_train = preprocessor.fit_transform(X_train)\n",
    "X_valid = preprocessor.transform(X_valid)\n",
    "\n",
    "input_shape = [X_train.shape[-1]]"
   ]
  },
  {
   "cell_type": "markdown",
   "metadata": {
    "papermill": {
     "duration": 0.023864,
     "end_time": "2021-03-15T15:34:47.641163",
     "exception": false,
     "start_time": "2021-03-15T15:34:47.617299",
     "status": "completed"
    },
    "tags": []
   },
   "source": [
    "# SMOTE\n",
    "\n",
    "I apply smote only on train set to avoid data leakage"
   ]
  },
  {
   "cell_type": "code",
   "execution_count": 14,
   "metadata": {
    "execution": {
     "iopub.execute_input": "2021-03-15T15:34:47.693746Z",
     "iopub.status.busy": "2021-03-15T15:34:47.692873Z",
     "iopub.status.idle": "2021-03-15T15:34:47.703701Z",
     "shell.execute_reply": "2021-03-15T15:34:47.703274Z"
    },
    "papermill": {
     "duration": 0.038677,
     "end_time": "2021-03-15T15:34:47.703815",
     "exception": false,
     "start_time": "2021-03-15T15:34:47.665138",
     "status": "completed"
    },
    "tags": []
   },
   "outputs": [],
   "source": [
    "smote = SMOTE()\n",
    "X_train, y_train = smote.fit_resample(X_train, y_train)"
   ]
  },
  {
   "cell_type": "markdown",
   "metadata": {
    "papermill": {
     "duration": 0.023914,
     "end_time": "2021-03-15T15:34:47.751733",
     "exception": false,
     "start_time": "2021-03-15T15:34:47.727819",
     "status": "completed"
    },
    "tags": []
   },
   "source": [
    "# Modelling"
   ]
  },
  {
   "cell_type": "markdown",
   "metadata": {
    "papermill": {
     "duration": 0.023971,
     "end_time": "2021-03-15T15:34:47.800262",
     "exception": false,
     "start_time": "2021-03-15T15:34:47.776291",
     "status": "completed"
    },
    "tags": []
   },
   "source": [
    "## Random Forest"
   ]
  },
  {
   "cell_type": "code",
   "execution_count": 15,
   "metadata": {
    "execution": {
     "iopub.execute_input": "2021-03-15T15:34:47.855224Z",
     "iopub.status.busy": "2021-03-15T15:34:47.854379Z",
     "iopub.status.idle": "2021-03-15T15:34:48.600648Z",
     "shell.execute_reply": "2021-03-15T15:34:48.601102Z"
    },
    "papermill": {
     "duration": 0.776247,
     "end_time": "2021-03-15T15:34:48.601261",
     "exception": false,
     "start_time": "2021-03-15T15:34:47.825014",
     "status": "completed"
    },
    "tags": []
   },
   "outputs": [
    {
     "name": "stdout",
     "output_type": "stream",
     "text": [
      "              precision    recall  f1-score   support\n",
      "\n",
      "           0       0.94      0.96      0.95       958\n",
      "           1       0.18      0.14      0.16        64\n",
      "\n",
      "    accuracy                           0.91      1022\n",
      "   macro avg       0.56      0.55      0.55      1022\n",
      "weighted avg       0.90      0.91      0.90      1022\n",
      "\n"
     ]
    }
   ],
   "source": [
    "clf_rand = RandomForestClassifier(n_estimators=100)\n",
    "\n",
    "clf_rand.fit(X_train, y_train) \n",
    "\n",
    "pred_rand= clf_rand.predict(X_valid)\n",
    "\n",
    "print(classification_report(pred_rand, y_valid.to_numpy()))"
   ]
  },
  {
   "cell_type": "markdown",
   "metadata": {
    "papermill": {
     "duration": 0.024899,
     "end_time": "2021-03-15T15:34:48.651673",
     "exception": false,
     "start_time": "2021-03-15T15:34:48.626774",
     "status": "completed"
    },
    "tags": []
   },
   "source": [
    "## Naive Bayes"
   ]
  },
  {
   "cell_type": "code",
   "execution_count": 16,
   "metadata": {
    "execution": {
     "iopub.execute_input": "2021-03-15T15:34:48.708908Z",
     "iopub.status.busy": "2021-03-15T15:34:48.707901Z",
     "iopub.status.idle": "2021-03-15T15:34:48.722436Z",
     "shell.execute_reply": "2021-03-15T15:34:48.721829Z"
    },
    "papermill": {
     "duration": 0.046243,
     "end_time": "2021-03-15T15:34:48.722629",
     "exception": false,
     "start_time": "2021-03-15T15:34:48.676386",
     "status": "completed"
    },
    "tags": []
   },
   "outputs": [
    {
     "name": "stdout",
     "output_type": "stream",
     "text": [
      "              precision    recall  f1-score   support\n",
      "\n",
      "           0       0.34      1.00      0.51       336\n",
      "           1       0.98      0.07      0.13       686\n",
      "\n",
      "    accuracy                           0.38      1022\n",
      "   macro avg       0.66      0.53      0.32      1022\n",
      "weighted avg       0.77      0.38      0.26      1022\n",
      "\n"
     ]
    }
   ],
   "source": [
    "clf_nb = GaussianNB()\n",
    "\n",
    "clf_nb.fit(X_train, y_train) \n",
    "\n",
    "pred_nb = clf_nb.predict(X_valid)\n",
    "\n",
    "print(classification_report(pred_nb, y_valid.to_numpy()))"
   ]
  },
  {
   "cell_type": "markdown",
   "metadata": {
    "papermill": {
     "duration": 0.025385,
     "end_time": "2021-03-15T15:34:48.776840",
     "exception": false,
     "start_time": "2021-03-15T15:34:48.751455",
     "status": "completed"
    },
    "tags": []
   },
   "source": [
    "## Deep Learning"
   ]
  },
  {
   "cell_type": "code",
   "execution_count": 17,
   "metadata": {
    "execution": {
     "iopub.execute_input": "2021-03-15T15:34:48.833562Z",
     "iopub.status.busy": "2021-03-15T15:34:48.833048Z",
     "iopub.status.idle": "2021-03-15T15:34:51.595292Z",
     "shell.execute_reply": "2021-03-15T15:34:51.594237Z"
    },
    "papermill": {
     "duration": 2.792914,
     "end_time": "2021-03-15T15:34:51.595466",
     "exception": false,
     "start_time": "2021-03-15T15:34:48.802552",
     "status": "completed"
    },
    "tags": []
   },
   "outputs": [],
   "source": [
    "model = keras.Sequential([\n",
    "    layers.BatchNormalization(input_shape=input_shape),\n",
    "    \n",
    "    layers.Dense(units=128, activation='relu'),\n",
    "    layers.BatchNormalization(),\n",
    "    layers.Dropout(0.3),\n",
    "    \n",
    "    layers.Dense(units=128, activation='relu'),\n",
    "    layers.BatchNormalization(),\n",
    "    layers.Dropout(0.5),\n",
    "    \n",
    "    layers.Dense(units=128, activation='relu'),\n",
    "    layers.BatchNormalization(),\n",
    "    layers.Dropout(0.5),\n",
    "    \n",
    "    layers.Dense(units=1, activation='sigmoid'),\n",
    "    \n",
    "])"
   ]
  },
  {
   "cell_type": "code",
   "execution_count": 18,
   "metadata": {
    "execution": {
     "iopub.execute_input": "2021-03-15T15:34:51.651149Z",
     "iopub.status.busy": "2021-03-15T15:34:51.650659Z",
     "iopub.status.idle": "2021-03-15T15:34:51.663109Z",
     "shell.execute_reply": "2021-03-15T15:34:51.662590Z"
    },
    "papermill": {
     "duration": 0.041303,
     "end_time": "2021-03-15T15:34:51.663224",
     "exception": false,
     "start_time": "2021-03-15T15:34:51.621921",
     "status": "completed"
    },
    "tags": []
   },
   "outputs": [],
   "source": [
    "model.compile(\n",
    "    optimizer='adam',\n",
    "    loss='binary_crossentropy',\n",
    "    metrics=['binary_accuracy']\n",
    ")"
   ]
  },
  {
   "cell_type": "code",
   "execution_count": 19,
   "metadata": {
    "execution": {
     "iopub.execute_input": "2021-03-15T15:34:51.719182Z",
     "iopub.status.busy": "2021-03-15T15:34:51.718605Z",
     "iopub.status.idle": "2021-03-15T15:35:13.334231Z",
     "shell.execute_reply": "2021-03-15T15:35:13.333473Z"
    },
    "papermill": {
     "duration": 21.645638,
     "end_time": "2021-03-15T15:35:13.334362",
     "exception": false,
     "start_time": "2021-03-15T15:34:51.688724",
     "status": "completed"
    },
    "tags": []
   },
   "outputs": [
    {
     "name": "stdout",
     "output_type": "stream",
     "text": [
      "Epoch 1/200\n",
      "243/243 [==============================] - 3s 6ms/step - loss: 0.7564 - binary_accuracy: 0.6308 - val_loss: 0.7226 - val_binary_accuracy: 0.5352\n",
      "Epoch 2/200\n",
      "243/243 [==============================] - 1s 4ms/step - loss: 0.5143 - binary_accuracy: 0.7567 - val_loss: 0.5485 - val_binary_accuracy: 0.6840\n",
      "Epoch 3/200\n",
      "243/243 [==============================] - 1s 4ms/step - loss: 0.4884 - binary_accuracy: 0.7728 - val_loss: 0.5069 - val_binary_accuracy: 0.7016\n",
      "Epoch 4/200\n",
      "243/243 [==============================] - 1s 3ms/step - loss: 0.4572 - binary_accuracy: 0.7904 - val_loss: 0.5186 - val_binary_accuracy: 0.6977\n",
      "Epoch 5/200\n",
      "243/243 [==============================] - 1s 3ms/step - loss: 0.4443 - binary_accuracy: 0.7957 - val_loss: 0.5096 - val_binary_accuracy: 0.7162\n",
      "Epoch 6/200\n",
      "243/243 [==============================] - 1s 3ms/step - loss: 0.4213 - binary_accuracy: 0.8081 - val_loss: 0.4687 - val_binary_accuracy: 0.7368\n",
      "Epoch 7/200\n",
      "243/243 [==============================] - 1s 3ms/step - loss: 0.4098 - binary_accuracy: 0.8143 - val_loss: 0.4920 - val_binary_accuracy: 0.7143\n",
      "Epoch 8/200\n",
      "243/243 [==============================] - 1s 3ms/step - loss: 0.4135 - binary_accuracy: 0.8099 - val_loss: 0.4767 - val_binary_accuracy: 0.7231\n",
      "Epoch 9/200\n",
      "243/243 [==============================] - 1s 3ms/step - loss: 0.3912 - binary_accuracy: 0.8277 - val_loss: 0.4757 - val_binary_accuracy: 0.7280\n",
      "Epoch 10/200\n",
      "243/243 [==============================] - 1s 3ms/step - loss: 0.4008 - binary_accuracy: 0.8239 - val_loss: 0.4608 - val_binary_accuracy: 0.7348\n",
      "Epoch 11/200\n",
      "243/243 [==============================] - 1s 3ms/step - loss: 0.3945 - binary_accuracy: 0.8212 - val_loss: 0.4695 - val_binary_accuracy: 0.7378\n",
      "Epoch 12/200\n",
      "243/243 [==============================] - 1s 3ms/step - loss: 0.3795 - binary_accuracy: 0.8352 - val_loss: 0.4449 - val_binary_accuracy: 0.7573\n",
      "Epoch 13/200\n",
      "243/243 [==============================] - 1s 3ms/step - loss: 0.3808 - binary_accuracy: 0.8266 - val_loss: 0.4786 - val_binary_accuracy: 0.7564\n",
      "Epoch 14/200\n",
      "243/243 [==============================] - 1s 3ms/step - loss: 0.3780 - binary_accuracy: 0.8305 - val_loss: 0.4726 - val_binary_accuracy: 0.7485\n",
      "Epoch 15/200\n",
      "243/243 [==============================] - 1s 3ms/step - loss: 0.3681 - binary_accuracy: 0.8403 - val_loss: 0.4426 - val_binary_accuracy: 0.7613\n",
      "Epoch 16/200\n",
      "243/243 [==============================] - 1s 3ms/step - loss: 0.3638 - binary_accuracy: 0.8423 - val_loss: 0.4254 - val_binary_accuracy: 0.7759\n",
      "Epoch 17/200\n",
      "243/243 [==============================] - 1s 4ms/step - loss: 0.3711 - binary_accuracy: 0.8381 - val_loss: 0.4297 - val_binary_accuracy: 0.7886\n",
      "Epoch 18/200\n",
      "243/243 [==============================] - 1s 3ms/step - loss: 0.3584 - binary_accuracy: 0.8399 - val_loss: 0.4238 - val_binary_accuracy: 0.7975\n",
      "Epoch 19/200\n",
      "243/243 [==============================] - 1s 3ms/step - loss: 0.3598 - binary_accuracy: 0.8435 - val_loss: 0.4521 - val_binary_accuracy: 0.7661\n",
      "Epoch 20/200\n",
      "243/243 [==============================] - 1s 3ms/step - loss: 0.3449 - binary_accuracy: 0.8494 - val_loss: 0.3994 - val_binary_accuracy: 0.8112\n",
      "Epoch 21/200\n",
      "243/243 [==============================] - 1s 3ms/step - loss: 0.3477 - binary_accuracy: 0.8484 - val_loss: 0.4402 - val_binary_accuracy: 0.7808\n",
      "Epoch 22/200\n",
      "243/243 [==============================] - 1s 3ms/step - loss: 0.3464 - binary_accuracy: 0.8523 - val_loss: 0.4252 - val_binary_accuracy: 0.7896\n",
      "Epoch 23/200\n",
      "243/243 [==============================] - 1s 3ms/step - loss: 0.3442 - binary_accuracy: 0.8497 - val_loss: 0.4206 - val_binary_accuracy: 0.7916\n",
      "Epoch 24/200\n",
      "243/243 [==============================] - 1s 3ms/step - loss: 0.3433 - binary_accuracy: 0.8415 - val_loss: 0.4208 - val_binary_accuracy: 0.7867\n",
      "Epoch 25/200\n",
      "243/243 [==============================] - 1s 3ms/step - loss: 0.3421 - binary_accuracy: 0.8572 - val_loss: 0.4424 - val_binary_accuracy: 0.7886\n"
     ]
    }
   ],
   "source": [
    "early_stopping = keras.callbacks.EarlyStopping(\n",
    "    patience=5,\n",
    "    min_delta=0.001,\n",
    "    restore_best_weights=True\n",
    ")\n",
    "\n",
    "history = model.fit(\n",
    "    x=X_train, y=y_train,\n",
    "    validation_data=(X_valid, y_valid),\n",
    "    batch_size=32,\n",
    "    epochs=200,\n",
    "    callbacks=[early_stopping]\n",
    "    \n",
    ")"
   ]
  },
  {
   "cell_type": "code",
   "execution_count": 20,
   "metadata": {
    "execution": {
     "iopub.execute_input": "2021-03-15T15:35:13.574041Z",
     "iopub.status.busy": "2021-03-15T15:35:13.573202Z",
     "iopub.status.idle": "2021-03-15T15:35:13.882740Z",
     "shell.execute_reply": "2021-03-15T15:35:13.882303Z"
    },
    "papermill": {
     "duration": 0.431053,
     "end_time": "2021-03-15T15:35:13.882866",
     "exception": false,
     "start_time": "2021-03-15T15:35:13.451813",
     "status": "completed"
    },
    "tags": []
   },
   "outputs": [
    {
     "data": {
      "image/png": "[encoded data removed]",
      "text/plain": [
       "<Figure size 1152x432 with 2 Axes>"
      ]
     },
     "metadata": {
      "needs_background": "light"
     },
     "output_type": "display_data"
    }
   ],
   "source": [
    "fig, ax = plt.subplots(1, 2,figsize=(16,6))\n",
    "\n",
    "ax[0].plot(history.history['loss'], color=colors[2])\n",
    "ax[0].plot(history.history['val_loss'], color=colors[5])\n",
    "ax[0].spines['right'].set_visible(False)\n",
    "ax[0].spines['top'].set_visible(False)\n",
    "ax[0].set_axisbelow(True)\n",
    "ax[0].legend([\"loss\", \"val loss\"])\n",
    "ax[0].grid(axis='y', alpha=0.5)\n",
    "ax[0].set_title(\"Loss graph\", loc='left', fontsize=14)\n",
    "ax[0].set_ylabel(\"Loss\")\n",
    "ax[0].set_xlabel(\"Epochs\")\n",
    "\n",
    "ax[1].plot(history.history['binary_accuracy'], color=colors[2])\n",
    "ax[1].plot(history.history['val_binary_accuracy'], color=colors[5])\n",
    "ax[1].spines['right'].set_visible(False)\n",
    "ax[1].spines['top'].set_visible(False)\n",
    "ax[1].set_axisbelow(True)\n",
    "ax[1].legend([\"accuracy\", \"val accuracy\"])\n",
    "ax[1].set_title(\"Accuracy graph\", loc='left', fontsize=14)\n",
    "ax[1].set_ylabel(\"Loss\")\n",
    "ax[1].set_xlabel(\"Epochs\")\n",
    "\n",
    "\n",
    "\n",
    "plt.grid(axis='y', alpha=0.5)\n",
    "plt.suptitle(\"Model Performance History\", ha='left', x=0.125, y=0.97, fontsize=18, fontweight='bold')\n",
    "plt.show()"
   ]
  },
  {
   "cell_type": "code",
   "execution_count": 21,
   "metadata": {
    "execution": {
     "iopub.execute_input": "2021-03-15T15:35:14.126110Z",
     "iopub.status.busy": "2021-03-15T15:35:14.125301Z",
     "iopub.status.idle": "2021-03-15T15:35:14.299019Z",
     "shell.execute_reply": "2021-03-15T15:35:14.297972Z"
    },
    "papermill": {
     "duration": 0.29711,
     "end_time": "2021-03-15T15:35:14.299154",
     "exception": false,
     "start_time": "2021-03-15T15:35:14.002044",
     "status": "completed"
    },
    "tags": []
   },
   "outputs": [],
   "source": [
    "y_pred = model.predict(X_valid)\n",
    "y_pred = [1 if i > 0.5 else 0 for i in y_pred]"
   ]
  },
  {
   "cell_type": "code",
   "execution_count": 22,
   "metadata": {
    "execution": {
     "iopub.execute_input": "2021-03-15T15:35:14.542564Z",
     "iopub.status.busy": "2021-03-15T15:35:14.541755Z",
     "iopub.status.idle": "2021-03-15T15:35:14.551635Z",
     "shell.execute_reply": "2021-03-15T15:35:14.551041Z"
    },
    "papermill": {
     "duration": 0.133671,
     "end_time": "2021-03-15T15:35:14.551793",
     "exception": false,
     "start_time": "2021-03-15T15:35:14.418122",
     "status": "completed"
    },
    "tags": []
   },
   "outputs": [
    {
     "name": "stdout",
     "output_type": "stream",
     "text": [
      "              precision    recall  f1-score   support\n",
      "\n",
      "           0       0.82      0.98      0.89       817\n",
      "           1       0.62      0.15      0.24       205\n",
      "\n",
      "    accuracy                           0.81      1022\n",
      "   macro avg       0.72      0.56      0.57      1022\n",
      "weighted avg       0.78      0.81      0.76      1022\n",
      "\n"
     ]
    }
   ],
   "source": [
    "print(classification_report(y_pred, y_valid.to_numpy()))"
   ]
  },
  {
   "cell_type": "markdown",
   "metadata": {
    "papermill": {
     "duration": 0.119723,
     "end_time": "2021-03-15T15:35:14.791372",
     "exception": false,
     "start_time": "2021-03-15T15:35:14.671649",
     "status": "completed"
    },
    "tags": []
   },
   "source": [
    "# Conclusion\n",
    "\n",
    "since the data is highly imbalance and not enough feature that is given, our model aren't able to predict target 1 (person has stroke) in a high accuracy even though upsampling using SMOTE is already used on our dataset. \n",
    "\n",
    "given the right amount of dataset and feature, performance of the model might improve. "
   ]
  },
  {
   "cell_type": "markdown",
   "metadata": {
    "papermill": {
     "duration": 0.119673,
     "end_time": "2021-03-15T15:35:15.033216",
     "exception": false,
     "start_time": "2021-03-15T15:35:14.913543",
     "status": "completed"
    },
    "tags": []
   },
   "source": [
    "### Side Note\n",
    "\n",
    "if you have any feedback or criticism, please feel free to comments cheers!"
   ]
  }
 ],
 "metadata": {
  "kernelspec": {
   "display_name": "Python 3",
   "language": "python",
   "name": "python3"
  },
  "language_info": {
   "codemirror_mode": {
    "name": "ipython",
    "version": 3
   },
   "file_extension": ".py",
   "mimetype": "text/x-python",
   "name": "python",
   "nbconvert_exporter": "python",
   "pygments_lexer": "ipython3",
   "version": "3.7.9"
  },
  "papermill": {
   "default_parameters": {},
   "duration": 43.754229,
   "end_time": "2021-03-15T15:35:17.636852",
   "environment_variables": {},
   "exception": null,
   "input_path": "__notebook__.ipynb",
   "output_path": "__notebook__.ipynb",
   "parameters": {},
   "start_time": "2021-03-15T15:34:33.882623",
   "version": "2.2.2"
  }
 },
 "nbformat": 4,
 "nbformat_minor": 4
}
